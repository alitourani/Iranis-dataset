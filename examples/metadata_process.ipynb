{
  "nbformat": 4,
  "nbformat_minor": 0,
  "metadata": {
    "colab": {
      "provenance": [],
      "authorship_tag": "ABX9TyMqA9QHqnjm42kzoaQStmT7",
      "include_colab_link": true
    },
    "kernelspec": {
      "name": "python3",
      "display_name": "Python 3"
    },
    "language_info": {
      "name": "python"
    }
  },
  "cells": [
    {
      "cell_type": "markdown",
      "metadata": {
        "id": "view-in-github",
        "colab_type": "text"
      },
      "source": [
        "<a href=\"https://colab.research.google.com/github/alitourani/Iranis-dataset/blob/master/examples/metadata_process.ipynb\" target=\"_parent\"><img src=\"https://colab.research.google.com/assets/colab-badge.svg\" alt=\"Open In Colab\"/></a>"
      ]
    },
    {
      "cell_type": "markdown",
      "source": [
        "# **Load Dataset Metadata**\n",
        "\n",
        "🎬 Dataset: [link](https://huggingface.co/datasets/alitourani/MoViFex_Dataset)\n"
      ],
      "metadata": {
        "id": "s3X6cZdKXyYw"
      }
    },
    {
      "cell_type": "code",
      "source": [
        "# Importing libraries\n",
        "import json\n",
        "import random\n",
        "import requests\n",
        "from collections import Counter\n",
        "\n",
        "# Variables\n",
        "datasetUrl = \"https://huggingface.co/datasets/alitourani/MoViFex_Dataset/resolve/main\"\n",
        "datasetFolders = [\"full_movies\", \"movie_shots\", \"movie_trailers\"]\n",
        "models = [\"incp3\", \"vgg19\"]"
      ],
      "metadata": {
        "id": "YK1W3qavAsaS"
      },
      "execution_count": 10,
      "outputs": []
    },
    {
      "cell_type": "markdown",
      "source": [
        "## I. Working with `stats.json`\n",
        "\n",
        "The `json` file contains the meta-data of the dataset, which can be very useful for general tasks."
      ],
      "metadata": {
        "id": "DdUcWqj5MwN0"
      }
    },
    {
      "cell_type": "code",
      "source": [
        "# Create the JSON file address\n",
        "datasetMeta = datasetUrl + \"/stats.json\"\n",
        "\n",
        "# Load JSON function\n",
        "def loadJsonFromUrl(url):\n",
        "    try:\n",
        "        response = requests.get(url)\n",
        "        response.raise_for_status()  # Raise an error for bad status codes\n",
        "        data = response.json()  # Parse JSON data'\n",
        "        print(\"JSON data loaded successfully!\")\n",
        "        return data\n",
        "    except requests.exceptions.RequestException as e:\n",
        "        print(f\"Error fetching data from {url}: {e}\")\n",
        "        return None\n",
        "    except json.JSONDecodeError as e:\n",
        "        print(f\"Error parsing JSON data: {e}\")\n",
        "        return None\n",
        "\n",
        "# Load the data\n",
        "jsonData = loadJsonFromUrl(datasetMeta)"
      ],
      "metadata": {
        "colab": {
          "base_uri": "https://localhost:8080/"
        },
        "id": "HL1YPk-QNRyR",
        "outputId": "783f604c-0597-478d-e553-364f4782ee85"
      },
      "execution_count": 11,
      "outputs": [
        {
          "output_type": "stream",
          "name": "stdout",
          "text": [
            "JSON data loaded successfully!\n"
          ]
        }
      ]
    },
    {
      "cell_type": "code",
      "source": [
        "# Counting the number of movies in the dataset\n",
        "def countNumberOfMovies(data):\n",
        "  if data:\n",
        "    moviesCount = len(data)\n",
        "    print(f\"The dataset contains {moviesCount} movies!\")\n",
        "    return moviesCount\n",
        "  else:\n",
        "    print(\"Data is empty or not loaded.\")\n",
        "\n",
        "# Run\n",
        "moviesCount = countNumberOfMovies(jsonData)"
      ],
      "metadata": {
        "colab": {
          "base_uri": "https://localhost:8080/"
        },
        "id": "l1Pb7FcVTe2N",
        "outputId": "afe5442d-705b-4550-f78a-a6cba03999b8"
      },
      "execution_count": 12,
      "outputs": [
        {
          "output_type": "stream",
          "name": "stdout",
          "text": [
            "The dataset contains 274 movies!\n"
          ]
        }
      ]
    },
    {
      "cell_type": "code",
      "source": [
        "# Fetching a random movie from the dataset\n",
        "def fetchRandomMovie(data):\n",
        "  if data:\n",
        "      randomMovie = random.choice(data)\n",
        "      print(\"Randomly fetched movie:\")\n",
        "      print(json.dumps(randomMovie, indent=4))\n",
        "      return randomMovie\n",
        "  else:\n",
        "      print(\"Data is empty or not loaded.\")\n",
        "\n",
        "# Run\n",
        "randomMovie = fetchRandomMovie(jsonData)"
      ],
      "metadata": {
        "colab": {
          "base_uri": "https://localhost:8080/"
        },
        "id": "JQTuuipFT4U7",
        "outputId": "d83888e1-4dae-4144-b6d4-e67b7225f5a7"
      },
      "execution_count": 13,
      "outputs": [
        {
          "output_type": "stream",
          "name": "stdout",
          "text": [
            "Randomly fetched movie:\n",
            "{\n",
            "    \"id\": \"0000002167\",\n",
            "    \"title\": \"Blade\",\n",
            "    \"year\": 1998,\n",
            "    \"genres\": [\n",
            "        \"Action\",\n",
            "        \"Horror\",\n",
            "        \"Thriller\"\n",
            "    ]\n",
            "}\n"
          ]
        }
      ]
    },
    {
      "cell_type": "code",
      "source": [
        "# Fetching a given movie from the dataset\n",
        "def fetchMovieById(data, movieId):\n",
        "    if data:\n",
        "        # Standardize movieId to 10 digits\n",
        "        standardizedId = f\"{int(movieId):010d}\"\n",
        "        for movie in data:\n",
        "            if movie.get('id') == standardizedId:\n",
        "                print(\"Fetched movie by ID:\")\n",
        "                print(json.dumps(movie, indent=4))\n",
        "                return movie\n",
        "        # If no movie is found with the given ID\n",
        "        print(f\"No movie found with ID: {standardizedId}\")\n",
        "    else:\n",
        "        print(\"Data is empty or not loaded.\")\n",
        "\n",
        "# Run\n",
        "movie = fetchMovieById(jsonData, \"6\")"
      ],
      "metadata": {
        "colab": {
          "base_uri": "https://localhost:8080/"
        },
        "id": "g4AW1MSjVMWP",
        "outputId": "32acb5eb-9c49-4687-c14e-7c6dc4ee78bb"
      },
      "execution_count": 14,
      "outputs": [
        {
          "output_type": "stream",
          "name": "stdout",
          "text": [
            "Fetched movie by ID:\n",
            "{\n",
            "    \"id\": \"0000000006\",\n",
            "    \"title\": \"Heat\",\n",
            "    \"year\": 1995,\n",
            "    \"genres\": [\n",
            "        \"Action\",\n",
            "        \"Crime\",\n",
            "        \"Thriller\"\n",
            "    ]\n",
            "}\n"
          ]
        }
      ]
    },
    {
      "cell_type": "code",
      "source": [
        "# Fetching and classifying all years by count\n",
        "def classifyYearsByCount(data):\n",
        "    if data:\n",
        "        years = [movie['year'] for movie in data if 'year' in movie]\n",
        "        yearsCount = Counter(years)\n",
        "        return dict(yearsCount)\n",
        "    else:\n",
        "        print(\"Data is empty or not loaded.\")\n",
        "        return {}\n",
        "\n",
        "# Run\n",
        "classifyYearsByCount(jsonData)"
      ],
      "metadata": {
        "colab": {
          "base_uri": "https://localhost:8080/"
        },
        "id": "FmNd2lJzhiuv",
        "outputId": "b565a189-8b64-493f-fc95-e6f07a2c2a05"
      },
      "execution_count": 15,
      "outputs": [
        {
          "output_type": "execute_result",
          "data": {
            "text/plain": [
              "{1995: 4,\n",
              " 1976: 2,\n",
              " 1994: 7,\n",
              " 1993: 3,\n",
              " 1990: 4,\n",
              " 1991: 1,\n",
              " 1996: 2,\n",
              " 1972: 1,\n",
              " 1954: 1,\n",
              " 1942: 1,\n",
              " 1988: 2,\n",
              " 1992: 4,\n",
              " 1975: 2,\n",
              " 1986: 2,\n",
              " 1966: 1,\n",
              " 1957: 1,\n",
              " 1971: 1,\n",
              " 1979: 2,\n",
              " 1974: 2,\n",
              " 1984: 2,\n",
              " 1997: 7,\n",
              " 1973: 3,\n",
              " 1989: 1,\n",
              " 1998: 3,\n",
              " 1982: 1,\n",
              " 1985: 1,\n",
              " 1999: 4,\n",
              " 2000: 5,\n",
              " 1987: 1,\n",
              " 2001: 4,\n",
              " 1983: 2,\n",
              " 2002: 9,\n",
              " 2003: 10,\n",
              " 1978: 1,\n",
              " 2004: 7,\n",
              " 2005: 3,\n",
              " 2006: 4,\n",
              " 2007: 5,\n",
              " 2008: 9,\n",
              " 2009: 5,\n",
              " 2010: 10,\n",
              " 2011: 9,\n",
              " 2012: 14,\n",
              " 2013: 14,\n",
              " 2014: 22,\n",
              " 2015: 20,\n",
              " 2016: 17,\n",
              " 2018: 13,\n",
              " 2019: 10,\n",
              " 2017: 15}"
            ]
          },
          "metadata": {},
          "execution_count": 15
        }
      ]
    },
    {
      "cell_type": "code",
      "source": [
        "# Fetching movies by a single genre\n",
        "def fetchMoviesByGenre(data, genre):\n",
        "    matchedMovies = {}\n",
        "    if data:\n",
        "        matchedMovies = {movie['id']: movie for movie in data if genre in movie.get('genres', [])}\n",
        "    return matchedMovies\n",
        "\n",
        "# Run\n",
        "fetchMoviesByGenre(jsonData, 'Comedy')"
      ],
      "metadata": {
        "colab": {
          "base_uri": "https://localhost:8080/"
        },
        "id": "1sQz2PGJgWIB",
        "outputId": "f3006699-4191-4ef3-b8be-87f7cb019330"
      },
      "execution_count": 16,
      "outputs": [
        {
          "output_type": "execute_result",
          "data": {
            "text/plain": [
              "{'0000000231': {'id': '0000000231',\n",
              "  'title': 'Dumb & Dumber (Dumb and Dumber)',\n",
              "  'year': 1994,\n",
              "  'genres': ['Adventure', 'Comedy']},\n",
              " '0000000296': {'id': '0000000296',\n",
              "  'title': 'Pulp Fiction',\n",
              "  'year': 1994,\n",
              "  'genres': ['Comedy', 'Crime', 'Drama', 'Thriller']},\n",
              " '0000000356': {'id': '0000000356',\n",
              "  'title': 'Forrest Gump',\n",
              "  'year': 1994,\n",
              "  'genres': ['Comedy', 'Drama', 'Romance', 'War']},\n",
              " '0000000420': {'id': '0000000420',\n",
              "  'title': 'Beverly Hills Cop III',\n",
              "  'year': 1994,\n",
              "  'genres': ['Action', 'Comedy', 'Crime', 'Thriller']},\n",
              " '0000000586': {'id': '0000000586',\n",
              "  'title': 'Home Alone',\n",
              "  'year': 1990,\n",
              "  'genres': ['Children', 'Comedy']},\n",
              " '0000000608': {'id': '0000000608',\n",
              "  'title': 'Fargo',\n",
              "  'year': 1996,\n",
              "  'genres': ['Comedy', 'Crime', 'Drama', 'Thriller']},\n",
              " '0000000778': {'id': '0000000778',\n",
              "  'title': 'Trainspotting',\n",
              "  'year': 1996,\n",
              "  'genres': ['Comedy', 'Crime', 'Drama']},\n",
              " '0000002011': {'id': '0000002011',\n",
              "  'title': 'Back to the Future Part II',\n",
              "  'year': 1989,\n",
              "  'genres': ['Adventure', 'Comedy', 'Sci-Fi']},\n",
              " '0000004084': {'id': '0000004084',\n",
              "  'title': 'Beverly Hills Cop II',\n",
              "  'year': 1987,\n",
              "  'genres': ['Action', 'Comedy', 'Crime', 'Thriller']},\n",
              " '0000004085': {'id': '0000004085',\n",
              "  'title': 'Beverly Hills Cop',\n",
              "  'year': 1984,\n",
              "  'genres': ['Action', 'Comedy', 'Crime', 'Drama']},\n",
              " '0000006548': {'id': '0000006548',\n",
              "  'title': 'Bad Boys II',\n",
              "  'year': 2003,\n",
              "  'genres': ['Action', 'Comedy', 'Crime', 'Thriller']},\n",
              " '0000006550': {'id': '0000006550',\n",
              "  'title': 'Johnny English',\n",
              "  'year': 2003,\n",
              "  'genres': ['Action', 'Comedy', 'Thriller']},\n",
              " '0000006863': {'id': '0000006863',\n",
              "  'title': 'School of Rock',\n",
              "  'year': 2003,\n",
              "  'genres': ['Comedy', 'Musical']},\n",
              " '0000008529': {'id': '0000008529',\n",
              "  'title': 'Terminal, The',\n",
              "  'year': 2004,\n",
              "  'genres': ['Comedy', 'Drama', 'Romance']},\n",
              " '0000026294': {'id': '0000026294',\n",
              "  'title': 'My Name Is Nobody (Il Mio nome Ã¨ Nessuno)',\n",
              "  'year': 1973,\n",
              "  'genres': ['Comedy', 'Western']},\n",
              " '0000069275': {'id': '0000069275',\n",
              "  'title': 'Dead Snow (DÃ¸d snÃ¸)',\n",
              "  'year': 2009,\n",
              "  'genres': ['Action', 'Adventure', 'Comedy', 'Horror']},\n",
              " '0000089904': {'id': '0000089904',\n",
              "  'title': 'The Artist',\n",
              "  'year': 2011,\n",
              "  'genres': ['Comedy', 'Drama', 'Romance']},\n",
              " '0000090522': {'id': '0000090522',\n",
              "  'title': 'Johnny English Reborn',\n",
              "  'year': 2011,\n",
              "  'genres': ['Adventure', 'Comedy', 'Thriller']},\n",
              " '0000102686': {'id': '0000102686',\n",
              "  'title': 'Hangover Part III, The',\n",
              "  'year': 2013,\n",
              "  'genres': ['Comedy']},\n",
              " '0000106841': {'id': '0000106841',\n",
              "  'title': 'August: Osage County',\n",
              "  'year': 2013,\n",
              "  'genres': ['Comedy', 'Drama']},\n",
              " '0000111743': {'id': '0000111743',\n",
              "  'title': 'A Million Ways to Die in the West',\n",
              "  'year': 2014,\n",
              "  'genres': ['Comedy', 'Western']},\n",
              " '0000116668': {'id': '0000116668',\n",
              "  'title': 'Dead Snow 2: Red vs. Dead',\n",
              "  'year': 2014,\n",
              "  'genres': ['Action', 'Comedy', 'Horror']},\n",
              " '0000116977': {'id': '0000116977',\n",
              "  'title': 'Dumb and Dumber To',\n",
              "  'year': 2014,\n",
              "  'genres': ['Comedy']},\n",
              " '0000119145': {'id': '0000119145',\n",
              "  'title': 'Kingsman: The Secret Service',\n",
              "  'year': 2015,\n",
              "  'genres': ['Action', 'Adventure', 'Comedy', 'Crime']},\n",
              " '0000122904': {'id': '0000122904',\n",
              "  'title': 'Deadpool',\n",
              "  'year': 2016,\n",
              "  'genres': ['Action', 'Adventure', 'Comedy', 'Sci-Fi']},\n",
              " '0000138036': {'id': '0000138036',\n",
              "  'title': 'The Man from U.N.C.L.E.',\n",
              "  'year': 2015,\n",
              "  'genres': ['Action', 'Adventure', 'Comedy']},\n",
              " '0000152091': {'id': '0000152091',\n",
              "  'title': 'The Brothers Grimsby',\n",
              "  'year': 2016,\n",
              "  'genres': ['Comedy']},\n",
              " '0000188301': {'id': '0000188301',\n",
              "  'title': 'Ant-Man and the Wasp',\n",
              "  'year': 2018,\n",
              "  'genres': ['Action', 'Adventure', 'Comedy', 'Fantasy', 'Sci-Fi']},\n",
              " '0000192541': {'id': '0000192541',\n",
              "  'title': 'The Graduates',\n",
              "  'year': 1986,\n",
              "  'genres': ['Comedy', 'Romance']}}"
            ]
          },
          "metadata": {},
          "execution_count": 16
        }
      ]
    },
    {
      "cell_type": "code",
      "source": [
        "# Fetch and classify movies by genres (some may have more than one genre)\n",
        "def classifyMoviesByGenre(data):\n",
        "    genreCounts = Counter()\n",
        "    if data:\n",
        "        for movie in data:\n",
        "            genres = movie.get('genres', [])\n",
        "            genreCounts.update(genres)\n",
        "    return dict(genreCounts)\n",
        "\n",
        "# Run\n",
        "classifiedGenresDict = classifyMoviesByGenre(jsonData)\n",
        "print(classifiedGenresDict)"
      ],
      "metadata": {
        "colab": {
          "base_uri": "https://localhost:8080/"
        },
        "id": "HCDKUuk5jqIS",
        "outputId": "b8f483aa-ab8b-4196-bf38-65e1da2174aa"
      },
      "execution_count": 17,
      "outputs": [
        {
          "output_type": "stream",
          "name": "stdout",
          "text": [
            "{'Action': 142, 'Crime': 80, 'Thriller': 119, 'Mystery': 26, 'Drama': 129, 'Adventure': 56, 'IMAX': 24, 'Comedy': 29, 'Romance': 18, 'War': 18, 'Western': 10, 'Sci-Fi': 57, 'Children': 1, 'Horror': 39, 'Film-Noir': 1, 'Fantasy': 21, 'Musical': 1}\n"
          ]
        }
      ]
    },
    {
      "cell_type": "code",
      "source": [
        "# Calculate the average genre per movie\n",
        "def calculateAverageGenrePerMovie(classifiedGenresDict):\n",
        "  if classifiedGenresDict:\n",
        "    totalGenres = sum(classifiedGenresDict.values())\n",
        "    averageGenrePerMovie = round(totalGenres / moviesCount, 3)\n",
        "    return averageGenrePerMovie\n",
        "  else:\n",
        "    print(\"Genres dictionary is empty!\")\n",
        "\n",
        "# Run\n",
        "calculateAverageGenrePerMovie(classifiedGenresDict)"
      ],
      "metadata": {
        "colab": {
          "base_uri": "https://localhost:8080/"
        },
        "id": "RqixUgm9ooO8",
        "outputId": "641b5b6d-9981-43e4-f4d9-d482dbe3e7be"
      },
      "execution_count": 18,
      "outputs": [
        {
          "output_type": "execute_result",
          "data": {
            "text/plain": [
              "2.814"
            ]
          },
          "metadata": {},
          "execution_count": 18
        }
      ]
    },
    {
      "cell_type": "code",
      "source": [
        "# Create the bar chart to visualize the Genres Dictionary\n",
        "import matplotlib.pyplot as plt\n",
        "\n",
        "def visualizeGenresDictionary(genresDict: dict):\n",
        "  # Check if the dictionary is empty\n",
        "  if not genresDict:\n",
        "      print(\"Genres dictionary is empty!\")\n",
        "      return\n",
        "  # Sort genres by count\n",
        "  sortedGenres = sorted(genresDict.items(), key=lambda x: x[1], reverse=True)\n",
        "  # Extract the genre names and counts\n",
        "  genreNames, genreCounts = zip(*sortedGenres)\n",
        "  # Create the bar chart\n",
        "  plt.bar(genreNames, genreCounts)\n",
        "  plt.xlabel(\"Genres\")\n",
        "  plt.ylabel(\"Number of Movies\")\n",
        "  plt.title(\"Movies Classified by Genre\")\n",
        "  # Rotate x-axis labels for better readability\n",
        "  plt.xticks(rotation=45)\n",
        "  # Show the plot\n",
        "  plt.show()\n",
        "\n",
        "# Run\n",
        "# visualizeGenresDictionary({})\n",
        "visualizeGenresDictionary(classifiedGenresDict)"
      ],
      "metadata": {
        "colab": {
          "base_uri": "https://localhost:8080/",
          "height": 518
        },
        "id": "5b86thonfASl",
        "outputId": "c4fd2b2d-f066-497c-fc98-56f76e2b5149"
      },
      "execution_count": 19,
      "outputs": [
        {
          "output_type": "display_data",
          "data": {
            "text/plain": [
              "<Figure size 640x480 with 1 Axes>"
            ],
            "image/png": "[encoded data removed]"
          },
          "metadata": {}
        }
      ]
    }
  ]
}